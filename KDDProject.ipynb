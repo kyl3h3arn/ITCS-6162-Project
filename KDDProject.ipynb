{
 "cells": [
  {
   "cell_type": "markdown",
   "id": "657ebaa1-da3f-47d1-a06a-bd485d6b67a4",
   "metadata": {},
   "source": [
    "### Import Data and Necessary Packages:"
   ]
  },
  {
   "cell_type": "code",
   "execution_count": 1,
   "id": "55d78724-8219-4616-8738-1e3fca09b945",
   "metadata": {},
   "outputs": [],
   "source": [
    "import pandas as pd\n",
    "from sklearn.model_selection import StratifiedKFold, GridSearchCV\n",
    "from sklearn.preprocessing import LabelEncoder\n",
    "from sklearn.svm import SVC\n",
    "from sklearn.tree import DecisionTreeClassifier\n",
    "from sklearn.metrics import confusion_matrix\n",
    "import matplotlib.pyplot as plt\n",
    "import seaborn as sns"
   ]
  },
  {
   "cell_type": "code",
   "execution_count": 2,
   "id": "b1ae3f5d-9131-4167-9748-e4bcdfcb9e1d",
   "metadata": {},
   "outputs": [
    {
     "name": "stdout",
     "output_type": "stream",
     "text": [
      "<class 'pandas.core.frame.DataFrame'>\n",
      "RangeIndex: 100 entries, 0 to 99\n",
      "Data columns (total 20 columns):\n",
      " #   Column                          Non-Null Count  Dtype \n",
      "---  ------                          --------------  ----- \n",
      " 0   Names                           100 non-null    object\n",
      " 1   Age                             100 non-null    object\n",
      " 2   Gender                          100 non-null    object\n",
      " 3   Mobile Phone                    100 non-null    object\n",
      " 4   Mobile Operating System         100 non-null    object\n",
      " 5   Mobile phone use for education  98 non-null     object\n",
      " 6   Mobile phone activities         99 non-null     object\n",
      " 7   Helpful for studying            98 non-null     object\n",
      " 8   Educational Apps                98 non-null     object\n",
      " 9   Daily usages                    99 non-null     object\n",
      " 10  Performance impact              98 non-null     object\n",
      " 11  Usage distraction               98 non-null     object\n",
      " 12  Attention span                  99 non-null     object\n",
      " 13  Useful features                 98 non-null     object\n",
      " 14  Health Risks                    98 non-null     object\n",
      " 15  Beneficial subject              99 non-null     object\n",
      " 16  Usage symptoms                  98 non-null     object\n",
      " 17  Symptom frequency               99 non-null     object\n",
      " 18  Health precautions              99 non-null     object\n",
      " 19  Health rating                   99 non-null     object\n",
      "dtypes: object(20)\n",
      "memory usage: 15.8+ KB\n"
     ]
    }
   ],
   "source": [
    "# Import Data Set into DataFrame StudentHealth\n",
    "df = pd.read_csv(\"Impact_of_Mobile_Phone_on_Students_Health.csv\")\n",
    "df.info()"
   ]
  },
  {
   "cell_type": "markdown",
   "id": "e3710618-1f01-4d4d-a39e-6bc4e65bdba2",
   "metadata": {},
   "source": [
    "### Data Preprocessing"
   ]
  },
  {
   "cell_type": "code",
   "execution_count": 4,
   "id": "f7a909bc-8469-44b7-b7de-783a05574247",
   "metadata": {},
   "outputs": [],
   "source": [
    "# Clean column names\n",
    "df.columns = df.columns.str.strip()\n",
    "\n",
    "# Fill NaN values in 'Health rating' and combine similar classes\n",
    "df['Health rating'].fillna('Good', inplace=True)\n",
    "df['Health rating'] = df['Health rating'].replace({\n",
    "    'Excellent;Good': 'Excellent',\n",
    "    'Good;Fair': 'Good',\n",
    "    'Excellent;Good;Fair;Poor': 'Excellent',\n",
    "    'Poor': 'Fair',\n",
    "    'Fair': 'Good'\n",
    "})\n",
    "\n",
    "# Transform 'Health precautions' into binary (Yes/No)\n",
    "df['Health precautions'] = df['Health precautions'].apply(lambda x: 'Yes' if x != 'None of Above' else 'No')\n",
    "\n",
    "# Encode categorical columns using LabelEncoder\n",
    "label_encoders = {}\n",
    "for column in ['Gender', 'Mobile Operating System', 'Mobile phone use for education',\n",
    "               'Mobile phone activities', 'Helpful for studying', 'Educational Apps',\n",
    "               'Daily usages', 'Performance impact', 'Usage distraction', 'Attention span',\n",
    "               'Useful features', 'Health Risks', 'Beneficial subject', 'Usage symptoms',\n",
    "               'Symptom frequency', 'Health precautions']:\n",
    "    le = LabelEncoder()\n",
    "    df[column] = le.fit_transform(df[column].astype(str))\n",
    "    label_encoders[column] = le\n",
    "\n",
    "# Select features and target\n",
    "X = df[['Mobile Operating System', 'Mobile phone use for education', 'Mobile phone activities',\n",
    "        'Helpful for studying', 'Daily usages', 'Health precautions']]\n",
    "y = df['Health rating']\n",
    "\n",
    "# Encode the target variable 'Health rating'\n",
    "le_health_rating = LabelEncoder()\n",
    "y_encoded = le_health_rating.fit_transform(y)\n",
    "\n",
    "# Add new features\n",
    "X_scaled = X.copy()\n",
    "X_scaled['Mobile_OS_Education'] = X['Mobile Operating System'] * X['Mobile phone use for education']\n",
    "X_scaled['Activities_Helpful'] = X['Mobile phone activities'] * X['Helpful for studying']"
   ]
  },
  {
   "cell_type": "markdown",
   "id": "6122a135-a026-4d85-bcbe-810a374c4cbf",
   "metadata": {},
   "source": [
    "### Support Vector Machine Model:"
   ]
  },
  {
   "cell_type": "code",
   "execution_count": 5,
   "id": "f95aad6c-01df-4266-96fa-c9066bb9527c",
   "metadata": {},
   "outputs": [
    {
     "name": "stdout",
     "output_type": "stream",
     "text": [
      "SVM Best Parameters: {'C': 10, 'degree': 2, 'gamma': 'scale', 'kernel': 'rbf'}\n",
      "SVM Accuracy: 0.66\n"
     ]
    }
   ],
   "source": [
    "# Define the parameter grid for SVM\n",
    "svm_param_grid = {\n",
    "    'C': [0.1, 1, 10],\n",
    "    'kernel': ['linear', 'rbf', 'poly'],\n",
    "    'degree': [2, 3],  # Only used for 'poly' kernel\n",
    "    'gamma': ['scale', 'auto']\n",
    "}\n",
    "\n",
    "# Use StratifiedKFold for cross-validation with fewer splits\n",
    "stratified_kfold = StratifiedKFold(n_splits=2, shuffle=True, random_state=42)\n",
    "\n",
    "# Initialize GridSearchCV for SVM with StratifiedKFold\n",
    "svm_grid_search = GridSearchCV(SVC(random_state=42), svm_param_grid, cv=stratified_kfold, scoring='accuracy')\n",
    "\n",
    "# Fit the grid search to the data\n",
    "svm_grid_search.fit(X_scaled, y_encoded)\n",
    "\n",
    "# Get the best parameters and score\n",
    "best_svm_params = svm_grid_search.best_params_\n",
    "best_svm_score = svm_grid_search.best_score_\n",
    "\n",
    "# Train the best SVM model\n",
    "best_svm_model = SVC(**best_svm_params, random_state=42)\n",
    "best_svm_model.fit(X_scaled, y_encoded)\n",
    "\n",
    "# Evaluate the model\n",
    "svm_accuracy = best_svm_score\n",
    "print(\"SVM Best Parameters:\", best_svm_params)\n",
    "print(\"SVM Accuracy:\", svm_accuracy)"
   ]
  },
  {
   "cell_type": "markdown",
   "id": "bd3c2230-441c-4323-b159-10d221fe34df",
   "metadata": {},
   "source": [
    "### Decision Tree Model:"
   ]
  },
  {
   "cell_type": "code",
   "execution_count": 6,
   "id": "11289921-d36d-4c3d-96bf-7912f0c9d0d0",
   "metadata": {},
   "outputs": [
    {
     "name": "stdout",
     "output_type": "stream",
     "text": [
      "Decision Tree Best Parameters: {'max_depth': 3, 'min_samples_leaf': 4, 'min_samples_split': 2}\n",
      "Decision Tree Accuracy: 0.64\n"
     ]
    }
   ],
   "source": [
    "# Define the parameter grid for Decision Tree\n",
    "dt_param_grid = {\n",
    "    'max_depth': [3, 5, 10, None],\n",
    "    'min_samples_split': [2, 5, 10],\n",
    "    'min_samples_leaf': [1, 2, 4]\n",
    "}\n",
    "\n",
    "# Use StratifiedKFold for cross-validation with fewer splits\n",
    "stratified_kfold = StratifiedKFold(n_splits=2, shuffle=True, random_state=42)\n",
    "\n",
    "# Initialize GridSearchCV for Decision Tree with StratifiedKFold\n",
    "dt_grid_search = GridSearchCV(DecisionTreeClassifier(random_state=42), dt_param_grid, cv=stratified_kfold, scoring='accuracy')\n",
    "\n",
    "# Fit the grid search to the data\n",
    "dt_grid_search.fit(X_scaled, y_encoded)\n",
    "\n",
    "# Get the best parameters and score\n",
    "best_dt_params = dt_grid_search.best_params_\n",
    "best_dt_score = dt_grid_search.best_score_\n",
    "\n",
    "# Train the best Decision Tree model\n",
    "best_dt_model = DecisionTreeClassifier(**best_dt_params, random_state=42)\n",
    "best_dt_model.fit(X_scaled, y_encoded)\n",
    "\n",
    "# Evaluate the model\n",
    "dt_accuracy = best_dt_score\n",
    "print(\"Decision Tree Best Parameters:\", best_dt_params)\n",
    "print(\"Decision Tree Accuracy:\", dt_accuracy)"
   ]
  },
  {
   "cell_type": "markdown",
   "id": "c0abb1d2-105a-4787-ab96-9fe772e77ac9",
   "metadata": {},
   "source": [
    "### Evaluation"
   ]
  },
  {
   "cell_type": "code",
   "execution_count": 7,
   "id": "d828a7f3-f4ae-4247-a65f-5271c14dc1e8",
   "metadata": {},
   "outputs": [
    {
     "data": {
      "image/png": "[encoded data removed]",
      "text/plain": [
       "<Figure size 800x600 with 2 Axes>"
      ]
     },
     "metadata": {},
     "output_type": "display_data"
    },
    {
     "data": {
      "image/png": "[encoded data removed]",
      "text/plain": [
       "<Figure size 800x600 with 2 Axes>"
      ]
     },
     "metadata": {},
     "output_type": "display_data"
    }
   ],
   "source": [
    "import matplotlib.pyplot as plt\n",
    "import seaborn as sns\n",
    "from sklearn.metrics import confusion_matrix\n",
    "\n",
    "def plot_confusion_matrix(cm, title):\n",
    "    plt.figure(figsize=(8, 6))\n",
    "    sns.heatmap(cm, annot=True, fmt='d', cmap='Blues', xticklabels=le_health_rating.classes_, yticklabels=le_health_rating.classes_)\n",
    "    plt.title(title)\n",
    "    plt.xlabel('Predicted')\n",
    "    plt.ylabel('Actual')\n",
    "    plt.show()\n",
    "\n",
    "# Predict the classes using the trained models\n",
    "svm_predictions = best_svm_model.predict(X_scaled)\n",
    "dt_predictions = best_dt_model.predict(X_scaled)\n",
    "\n",
    "# Compute confusion matrices for both models\n",
    "svm_cm = confusion_matrix(y_encoded, svm_predictions)\n",
    "dt_cm = confusion_matrix(y_encoded, dt_predictions)\n",
    "\n",
    "# Plot confusion matrices for SVM and Decision Tree\n",
    "plot_confusion_matrix(svm_cm, 'SVM Confusion Matrix')\n",
    "plot_confusion_matrix(dt_cm, 'Decision Tree Confusion Matrix')"
   ]
  },
  {
   "cell_type": "code",
   "execution_count": 9,
   "id": "37d01be8-02b6-4f64-9f5a-b6a284987946",
   "metadata": {},
   "outputs": [
    {
     "data": {
      "text/plain": [
       "((0.8,\n",
       "  '              precision    recall  f1-score   support\\n\\n   Excellent       0.88      0.57      0.70        40\\n        Good       0.77      0.95      0.85        60\\n\\n    accuracy                           0.80       100\\n   macro avg       0.83      0.76      0.77       100\\nweighted avg       0.82      0.80      0.79       100\\n'),\n",
       " (0.68,\n",
       "  '              precision    recall  f1-score   support\\n\\n   Excellent       0.70      0.35      0.47        40\\n        Good       0.68      0.90      0.77        60\\n\\n    accuracy                           0.68       100\\n   macro avg       0.69      0.62      0.62       100\\nweighted avg       0.69      0.68      0.65       100\\n'))"
      ]
     },
     "execution_count": 9,
     "metadata": {},
     "output_type": "execute_result"
    }
   ],
   "source": [
    "from sklearn.metrics import classification_report, accuracy_score\n",
    "\n",
    "# Evaluate the SVM model\n",
    "svm_accuracy = accuracy_score(y_encoded, svm_predictions)\n",
    "svm_report = classification_report(y_encoded, svm_predictions, target_names=le_health_rating.classes_)\n",
    "\n",
    "# Evaluate the Decision Tree model\n",
    "dt_accuracy = accuracy_score(y_encoded, dt_predictions)\n",
    "dt_report = classification_report(y_encoded, dt_predictions, target_names=le_health_rating.classes_)\n",
    "\n",
    "(svm_accuracy, svm_report), (dt_accuracy, dt_report)"
   ]
  }
 ],
 "metadata": {
  "kernelspec": {
   "display_name": "Python 3.10 (pycaret_env)",
   "language": "python",
   "name": "pycaret_env"
  },
  "language_info": {
   "codemirror_mode": {
    "name": "ipython",
    "version": 3
   },
   "file_extension": ".py",
   "mimetype": "text/x-python",
   "name": "python",
   "nbconvert_exporter": "python",
   "pygments_lexer": "ipython3",
   "version": "3.10.14"
  }
 },
 "nbformat": 4,
 "nbformat_minor": 5
}
